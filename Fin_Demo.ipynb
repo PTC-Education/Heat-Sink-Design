{
  "nbformat": 4,
  "nbformat_minor": 0,
  "metadata": {
    "colab": {
      "name": "Fin Demo.ipynb",
      "provenance": [],
      "collapsed_sections": []
    },
    "kernelspec": {
      "name": "python3",
      "display_name": "Python 3"
    },
    "language_info": {
      "name": "python"
    }
  },
  "cells": [
    {
      "cell_type": "markdown",
      "source": [
        "# Heat Sink \n",
        "As modern electronics often generate a significant amount of waste heat that could potentially destroy the device itself, building a [heat sink](https://en.wikipedia.org/wiki/Heat_sink) on top of the hot surface is a common approach to increase the rate of heat dissipation. A heat sink is generally a thin metal plate with many fins attached, increasing the surface area of the heat sink. Such that, more heat can be dissipated to the environment through the increased surface area. \n",
        "\n",
        "In this notebook, we will conduct a series of simulation with the Onshape model of a heat sink design to understand the properties of fins and heat sinks. The Onshape document of the model can be found in [this link](https://cad.onshape.com/documents/90a4d9714ef6b02d6588ec72/w/d59102477548ee2c306f9746/e/ef65b54bd20ceea1d75b8d86); please also feel free to make a copy and play around with the design. "
      ],
      "metadata": {
        "id": "sHd1aOmf1581"
      }
    },
    {
      "cell_type": "markdown",
      "source": [
        "#Geometry of the Heat Sink\n",
        "Dimensions: width x length x height: \n",
        "- Base: 0.1 x 0.1 x 0.001 m\n",
        "- Fins: 0.001 x `Fin_Width` x 0.03 m \n",
        "- Fins spacing: `Fin_Spacing`\n",
        "\n",
        "Allowed range of variables: \n",
        "- 0.001 m < `Fin_Width` < 0.1 m\n",
        "- `Fin_Width` < `Fin_Spacing` < 0.1 m"
      ],
      "metadata": {
        "id": "PE_W0R9U3SUI"
      }
    },
    {
      "cell_type": "code",
      "source": [
        "#@title Import and Setup Onshape Client\n",
        "\n",
        "!pip install onshape-client\n",
        "from onshape_client.client import Client\n",
        "from onshape_client.onshape_url import OnshapeElement\n",
        "import json\n",
        "\n",
        "#@markdown Chage the base if using an enterprise (i.e. \"https://ptc.onshape.com\")\n",
        "base = 'https://cad.onshape.com' #@param {type:\"string\"}\n",
        "\n",
        "#@markdown Would you like to import your API keys from a file, or copy and paste them directly?\n",
        "keyImportOption = \"Upload Keys from File\" #@param [\"Upload Keys from File\", \"Copy/Paste Keys\"]\n",
        "\n",
        "from IPython.display import clear_output \n",
        "clear_output()\n",
        "print(\"Onshape Client successfully imported!\")\n",
        "\n",
        "if keyImportOption == \"Upload Keys from File\":\n",
        "    from google.colab import files\n",
        "    uploaded = files.upload()\n",
        "    for fn in uploaded.keys():\n",
        "        execfile(fn)\n",
        "\n",
        "    client = Client(configuration={\"base_url\": base,\n",
        "                                    \"access_key\": access,\n",
        "                                    \"secret_key\": secret})\n",
        "    clear_output()\n",
        "    print('Onshape client configured - ready to go!')\n",
        "else:\n",
        "    access = input(\"Paste your Onshape Access Key: \")\n",
        "    secret = input(\"Paste your Onshape Secret Key: \")\n",
        "    client = Client(configuration={\"base_url\": base,\n",
        "                                    \"access_key\": access,\n",
        "                                    \"secret_key\": secret})\n",
        "    clear_output()\n",
        "    print('Onshape client configured - ready to go!')\n"
      ],
      "metadata": {
        "colab": {
          "resources": {
            "http://localhost:8080/nbextensions/google.colab/files.js": {
              "data": "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",
              "ok": true,
              "headers": [
                [
                  "content-type",
                  "application/javascript"
                ]
              ],
              "status": 200,
              "status_text": ""
            }
          },
          "base_uri": "https://localhost:8080/",
          "height": 90
        },
        "cellView": "form",
        "id": "wgcHNGT8Ad8Y",
        "outputId": "f4b67702-8ead-4d2c-c648-cf174ba84691"
      },
      "execution_count": 1,
      "outputs": [
        {
          "output_type": "stream",
          "name": "stdout",
          "text": [
            "Onshape client configured - ready to go!\n"
          ]
        }
      ]
    },
    {
      "cell_type": "code",
      "source": [
        "#@title Onshape document location \n",
        "#@markdown Copy and paste the link to the Onshape document of the heat sink (must be in part studio): \n",
        "url = \"https://cad.onshape.com/documents/90a4d9714ef6b02d6588ec72/w/d59102477548ee2c306f9746/e/ef65b54bd20ceea1d75b8d86\" #@param{type:\"string\"}\n",
        "\n",
        "fixed_url = '/api/partstudios/d/did/w/wid/e/eid'\n",
        "element = OnshapeElement(url)\n",
        "fixed_url = fixed_url.replace('did', element.did)\n",
        "fixed_url = fixed_url.replace('wid', element.wvmid)\n",
        "fixed_url = fixed_url.replace('eid', element.eid)"
      ],
      "metadata": {
        "cellView": "form",
        "id": "s5sFpypEDUxI"
      },
      "execution_count": 2,
      "outputs": []
    },
    {
      "cell_type": "code",
      "source": [
        "from onshape_client.oas import configuration\n",
        "#@title Define and view your heat sink \n",
        "#@markdown Define the dimension and the spacing of fins, both in meter: \n",
        "Fin_Width = 0.005 #@param{type:\"number\"}\n",
        "Fin_Spacing = 0.015 #@param{type:\"number\"}\n",
        "\n",
        "configDef = \"Fin_Width%3D{}%2Bmeter%3BFin_Spacing%3D{}%2Bmeter\".format(str(Fin_Width), str(Fin_Spacing))\n",
        "\n",
        "#@markdown viewMatrix can be any face direction or isometric as a string, or a 1x12 view matrix\n",
        "viewMatrix = \"isometric\" #@param {type:\"string\"}\n",
        "#@markdown pixelSize is the size in meters for each pixel. If 0, it will fill the image size output\n",
        "pixelSize = 0.0005 #@param {type:\"number\"}\n",
        "showImage = True #@param {type:\"boolean\"}\n",
        "\n",
        "from IPython.display import Image\n",
        "import base64\n",
        "\n",
        "def partStudioShadedView(viewMatrix = \"isometric\",pixelSize = 0.003):\n",
        "    # Returns the base64 image string of a shaded view of a part studio\n",
        "    # viewMatrix can be any face direction or isometric as a string, or a 1x12 view matrix\n",
        "    method = 'GET'\n",
        "\n",
        "    if any(face in viewMatrix for face in [\"front\",\"back\",\"top\",\"bottom\",\"left\",\"right\"]):\n",
        "        matrix = viewMatrix\n",
        "    elif viewMatrix == \"isometric\":\n",
        "        matrix = \"0.612,0.612,0,0,-0.354,0.354,0.707,0,0.707,-0.707,0.707,0\"\n",
        "    elif isinstance(viewMatrix,list):\n",
        "        matrix = str(viewMatrix).replace('[','').replace(']','')\n",
        "    else: \n",
        "        matrix = None \n",
        "\n",
        "    ## View Matrix below is roughly isometric\n",
        "    params = {'viewMatrix':matrix,\n",
        "                'edges':'show',\n",
        "                'outputHeight':600,\n",
        "                'outputWidth':1000,\n",
        "                'pixelSize':pixelSize, \n",
        "                'configuration': configDef}\n",
        "    \n",
        "    payload = {}\n",
        "    headers = {'Accept': 'application/vnd.onshape.v1+json',\n",
        "                'Content-Type': 'application/json'}\n",
        "\n",
        "    response = client.api_client.request(method, url=base + fixed_url + \"/shadedviews\", query_params=params, headers=headers, body=payload)\n",
        "    \n",
        "    parsed = json.loads(response.data)\n",
        "    imgdata = base64.b64decode(parsed['images'][0])\n",
        "    with open(\"image.jpg\", 'wb') as f:\n",
        "        f.write(imgdata)\n",
        "    \n",
        "    return imgdata\n",
        "\n",
        "if 0.001 < Fin_Width < 0.1 and Fin_Width < Fin_Spacing < 0.1: \n",
        "  img = partStudioShadedView(viewMatrix,pixelSize)\n",
        "  if showImage:\n",
        "    display(Image(img))\n",
        "  else:\n",
        "    pass\n",
        "else: \n",
        "  print(\"ERROR: Please check the constraints on defined dimensions!\")"
      ],
      "metadata": {
        "colab": {
          "base_uri": "https://localhost:8080/",
          "height": 617
        },
        "id": "fvpIq8LwBlo-",
        "outputId": "c168e8a3-a479-4425-d25d-39fdb61583cd",
        "cellView": "form"
      },
      "execution_count": 4,
      "outputs": [
        {
          "output_type": "display_data",
          "data": {
            "text/plain": [
              "<IPython.core.display.Image object>"
            ],
            "image/png": "[encoded data removed]"
          },
          "metadata": {}
        }
      ]
    },
    {
      "cell_type": "markdown",
      "source": [
        "#Heat Transfer Calculation \n",
        "Assume the ambient temperature, $T_\\infty$, to be $25°\\text{C}$, and assume the convection heat transfer coefficient, $h$, to be $20\\frac{W}{m^2k}$. The heat sink is made out of stainless steel with a thermal conductivity: $k=15 \\frac{W}{mK}$. \n",
        "\n",
        "Let's say that the heat sink is placed on top of a surface with $T_b = 50°\\text{C}$. We are interested in calculating the total heat transfer, $\\dot{Q}$, from the heat sink. \n",
        "\n",
        "$$\n",
        "\\begin{aligned} \n",
        "\\dot{Q}_{total} &= \\dot{Q}_{unfin} + \\dot{Q}_{fin} \\\\\n",
        "&= hA_{unfin}(T_b - T_\\infty) + \\eta_{fin} hA_{fin} (T_b - T_\\infty) \\\\\n",
        "&= h(A_{unfin} + \\eta_{fin}A_{fin})(T_b - T_\\infty) \n",
        "\\end{aligned}\n",
        "$$\n",
        "\n",
        "where $\\eta_{fin}$ is the heat transfer efficiency of one fin, $A_{fin}$ is the surface area of the fins, and $A_{unfin}$ is the surface area of the base plate. For the fins in this demo, their efficiencies can be calculated with: \n",
        "$$\n",
        "\\begin{aligned} \n",
        "m &\\equiv \\sqrt{\\frac{hp}{kA_c}}\\\\\n",
        "L_c &\\equiv L + \\frac{A_c}{p} \\\\\n",
        "\\Rightarrow \\eta_{fin} &= \\frac{\\tanh{(mL_c)}}{mL_c}\n",
        "\\end{aligned}\n",
        "$$\n",
        "where $L$, $p$, and $A_c$ are the length, perimeter and cross-sectional area of a fin, respectively. With material properties and geometries of the fins given in this demo, the efficiency of the fins can be calculated with the function shown in the cell below. \n",
        "\n",
        "Hence, \n",
        "$$\n",
        "\\begin{aligned} \n",
        "\\dot{Q}_{total} &= \\biggl(20\\frac{W}{m^2k}\\biggr)(A_{unfin} + \\eta_{fin} A_{fin})(50° C - 25° C) \\\\\n",
        "\\dot{Q}_{total} &= 500 A_{unfin} + 500 \\eta_{fin} A_{fin} \n",
        "\\end{aligned}\n",
        "$$\n",
        "The values of $A_{fin}$ and $A_{unfin}$ will be substituted in with the areas automatically calculated by the Onshape model. "
      ],
      "metadata": {
        "id": "uWFj33Pf4IhQ"
      }
    },
    {
      "cell_type": "code",
      "source": [
        "#@title Run this cell to define function `calc_efficiency(Fin_Width)` and calculate the fins' efficiency\n",
        "Fin_Width = 0.015 #@param{type: \"number\"}\n",
        "\n",
        "import numpy as np \n",
        "\n",
        "def calc_efficiency(FW): \n",
        "    m = np.sqrt(8000/3 * (0.001+FW)/FW)\n",
        "    Lc = 0.03 + FW/2000 / (0.001+FW)\n",
        "    eff = np.tanh(m * Lc) / (m * Lc)\n",
        "    return eff\n",
        "\n",
        "efficiency = calc_efficiency(Fin_Width)\n",
        "print(\"Fin Efficiency:\", efficiency)\n"
      ],
      "metadata": {
        "colab": {
          "base_uri": "https://localhost:8080/"
        },
        "cellView": "form",
        "id": "Ux_Wwcr2kYg-",
        "outputId": "5885bbb7-ba45-4236-9a94-4b1a85b13bc1"
      },
      "execution_count": 6,
      "outputs": [
        {
          "output_type": "stream",
          "name": "stdout",
          "text": [
            "Fin Efficiency: 0.5694438309610714\n"
          ]
        }
      ]
    },
    {
      "cell_type": "markdown",
      "source": [
        "#Experiment\n",
        "To visualize the change in heat transfer with different heat sink, we will: \n",
        "1. Vary the size of the heat sink (`Base_Dim`) \n",
        "2. Vary the spacing between fins (`Fin_Spacing`)\n",
        "3. Find an optimal heat sink design by varying both the base dimension and the spacing between fins "
      ],
      "metadata": {
        "id": "ML1eBjI_2b7n"
      }
    },
    {
      "cell_type": "code",
      "source": [
        "#@title Run this cell to define function `getVariableValue(url, config, varName)` to get variable values from Part Studio\n",
        "\n",
        "# USING (MODIFIED) CODE FROM https://github.com/onshape-public/onshape-clients/blob/master/python/test/test_get_variables.py\n",
        "\n",
        "import json\n",
        "from onshape_client.oas import BTFeatureScriptEvalCall2377\n",
        "from onshape_client.onshape_url import OnshapeElement\n",
        "from onshape_client.utility import parse_quantity\n",
        "\n",
        "script = r'''\n",
        "    function(context, queries) {\n",
        "            return getAllVariables(context);\n",
        "        }\n",
        "    '''\n",
        "def getVariables(url, config):\n",
        "    element = OnshapeElement(url)\n",
        "    script_call = BTFeatureScriptEvalCall2377(script=script)\n",
        "    response = client.part_studios_api.eval_feature_script(\n",
        "        element.did,\n",
        "        element.wvm,\n",
        "        element.wvmid,\n",
        "        element.eid,\n",
        "        bt_feature_script_eval_call_2377=script_call,\n",
        "        _preload_content=False,\n",
        "        configuration=config\n",
        "    )\n",
        "    measurements = json.loads(response.data.decode(\"utf-8\"))[\"result\"][\"message\"][\"value\"]\n",
        "    parsed_measurements = parse_variables_from_map(measurements)  \n",
        "    vars = []\n",
        "    for name, val in parsed_measurements.items():\n",
        "        vars.append({name:val})\n",
        "    return vars\n",
        "\n",
        "def parse_variables_from_map(unparsed):\n",
        "    parsed_variables = {}\n",
        "    value = None\n",
        "    for to_parse in unparsed:\n",
        "        if is_fs_type(to_parse, \"BTFSValueMapEntry\"):\n",
        "            key = to_parse[\"message\"][\"key\"][\"message\"][\"value\"]\n",
        "            candidate_message = to_parse[\"message\"][\"value\"]\n",
        "            if is_fs_type(candidate_message, [\"BTFSValueMap\", \"BTFSValueArray\"]):\n",
        "                value = parse_variables_from_map(candidate_message[\"message\"][\"value\"])\n",
        "            elif is_fs_type(candidate_message, \"BTFSValueWithUnits\"):\n",
        "                value = parse_quantity(candidate_message[\"message\"])\n",
        "            parsed_variables[key] = value\n",
        "    return parsed_variables\n",
        "\n",
        "def is_fs_type(candidate, type_name):\n",
        "    result = False\n",
        "    try:\n",
        "        if isinstance(type_name, str):\n",
        "            result = type_name == candidate[\"typeName\"]\n",
        "        elif isinstance(type_name, list):\n",
        "            result = any(\n",
        "                [type_name_one == candidate[\"typeName\"] for type_name_one in type_name]\n",
        "            )\n",
        "    except Exception:\n",
        "        result = False\n",
        "    return result\n",
        "\n",
        "def getVariableValue(url,config,varName):\n",
        "    vars = getVariables(url,config)\n",
        "    for x in vars:\n",
        "        if varName in x:\n",
        "        return(x[varName])"
      ],
      "metadata": {
        "cellView": "form",
        "id": "CPHLnYQrOIWX"
      },
      "execution_count": 7,
      "outputs": []
    },
    {
      "cell_type": "code",
      "source": [
        "#@title Vary the width of the fins\n",
        "#@markdown Define the range of variation of the fins' width\n",
        "Fin_Width_min = 0.003 #@param{type:\"number\"}\n",
        "Fin_Width_max = 0.015 #@param{type:\"number\"}\n",
        "step_size = 0.002 #@param{type:\"number\"}\n",
        "#@markdown Define a common fin spacing for all heat sinks \n",
        "Fin_Spacing = 0.02 #@param{type:\"number\"}\n",
        "\n",
        "import numpy as np \n",
        "import matplotlib.pyplot as plt\n",
        "\n",
        "configDef = \"Fin_Width%3D{}%2Bmeter%3BFin_Spacing%3D{}%2Bmeter\"\n",
        "\n",
        "def vary_FW(FW_min, FW_max, step_size, FS): \n",
        "    heat_transfer = []\n",
        "    FWs = np.arange(FW_min, FW_max + step_size, step_size)\n",
        "    for fw in FWs: \n",
        "        config = configDef.format(str(fw), str(FS))\n",
        "        method = \"GET\"\n",
        "        params = {'partId': \"JHD\", \n",
        "                \"configuration\": config}\n",
        "        payload = {}\n",
        "        headers = {'Accept': 'application/vnd.onshape.v2+json; charset=UTF-8;qs=0.1',\n",
        "                'Content-Type': 'application/json'}\n",
        "        response = client.api_client.request(method, url=base + fixed_url + '/massproperties', query_params=params, headers=headers, body=payload)\n",
        "        parsed = json.loads(response.data)\n",
        "        \n",
        "        # Calculate heat transfer \n",
        "        surface_area = np.mean(parsed[\"bodies\"][\"-all-\"][\"periphery\"]) \n",
        "        area_unfin = float(getVariableValue(url, config, \"Area_Unfin\").split(\"*\")[0])\n",
        "        area_fin = surface_area - area_unfin - 0.0104\n",
        "        heat_transfer.append(500 * (area_unfin + efficiency * area_fin))\n",
        "\n",
        "    plt.plot(FWs, heat_transfer)\n",
        "    plt.xlabel(\"Fin Width (m)\")\n",
        "    plt.ylabel(\"Amount of Heat Transfer (W)\")\n",
        "    plt.show()\n",
        "\n",
        "if 0.1 > Fin_Width_max > Fin_Width_min > 0.001 and Fin_Width_max < Fin_Spacing < 0.1:\n",
        "    vary_FW(Fin_Width_min, Fin_Width_max, step_size, Fin_Spacing)\n",
        "else: \n",
        "    print(\"ERROR: Please check the constraints on defined dimensions!\")"
      ],
      "metadata": {
        "id": "8PKdvcPEIm1U",
        "colab": {
          "base_uri": "https://localhost:8080/",
          "height": 279
        },
        "cellView": "form",
        "outputId": "23360343-2dac-4339-fcbe-0a14a8d36215"
      },
      "execution_count": 20,
      "outputs": [
        {
          "output_type": "display_data",
          "data": {
            "text/plain": [
              "<Figure size 432x288 with 1 Axes>"
            ],
            "image/png": "[encoded data removed]"
          },
          "metadata": {
            "needs_background": "light"
          }
        }
      ]
    },
    {
      "cell_type": "code",
      "source": [
        "from matplotlib.font_manager import findSystemFonts\n",
        "from ruamel.yaml.tokens import FlowSequenceStartToken\n",
        "#@title Vary the spacing of the fins \n",
        "#@markdown Define the range of variation of the fins' spacing\n",
        "Fin_Spacing_min =  0.015#@param{type:\"number\"}\n",
        "Fin_Spacing_max = 0.055 #@param{type:\"number\"}\n",
        "step_size = 0.005 #@param{type:\"number\"}\n",
        "#@markdown Define a common width for all fins \n",
        "Fin_Width =  0.005#@param{type:\"number\"}\n",
        "\n",
        "import numpy as np \n",
        "import matplotlib.pyplot as plt\n",
        "\n",
        "configDef = \"Fin_Width%3D{}%2Bmeter%3BFin_Spacing%3D{}%2Bmeter\"\n",
        "\n",
        "def vary_fin_spacing(FS_min, FS_max, step_size, FW): \n",
        "    heat_transfer = []\n",
        "    FSs = np.arange(FS_min, FS_max + step_size, step_size)\n",
        "    for fs in FSs: \n",
        "        config = configDef.format(str(FW), str(fs))\n",
        "        method = \"GET\"\n",
        "        params = {'partId': \"JHD\", \"configuration\": config}\n",
        "        payload = {}\n",
        "        headers = {'Accept': 'application/vnd.onshape.v2+json; charset=UTF-8;qs=0.1',\n",
        "                   'Content-Type': 'application/json'}\n",
        "        response = client.api_client.request(method, url=base + fixed_url + '/massproperties', query_params=params, headers=headers, body=payload)\n",
        "        parsed = json.loads(response.data)\n",
        "\n",
        "        # Calculate heat transfer \n",
        "        surface_area = np.mean(parsed[\"bodies\"][\"-all-\"][\"periphery\"]) \n",
        "        area_unfin = float(getVariableValue(url, config, \"Area_Unfin\").split(\"*\")[0])\n",
        "        area_fin = surface_area - area_unfin - 0.0104\n",
        "        heat_transfer.append(500 * (area_unfin + efficiency * area_fin))\n",
        "\n",
        "    plt.plot(FSs, heat_transfer)\n",
        "    plt.xlabel(\"Fin Spacing (m)\")\n",
        "    plt.ylabel(\"Amount of Heat Transfer (W)\")\n",
        "    plt.show()\n",
        "\n",
        "if 0.1 > Fin_Width > 0.001 and Fin_Width < Fin_Spacing_min < Fin_Spacing_max < 0.1:\n",
        "    vary_fin_spacing(Fin_Spacing_min, Fin_Spacing_max, step_size, Fin_Width)\n",
        "else: \n",
        "    print(\"ERROR: Please check the constraints on defined dimensions!\")"
      ],
      "metadata": {
        "colab": {
          "base_uri": "https://localhost:8080/",
          "height": 279
        },
        "cellView": "form",
        "id": "hfIULqDWM0BY",
        "outputId": "7c954336-acd6-44b2-d6e4-582f6874d518"
      },
      "execution_count": 18,
      "outputs": [
        {
          "output_type": "display_data",
          "data": {
            "text/plain": [
              "<Figure size 432x288 with 1 Axes>"
            ],
            "image/png": "[encoded data removed]"
          },
          "metadata": {
            "needs_background": "light"
          }
        }
      ]
    },
    {
      "cell_type": "code",
      "source": [
        "#@title Finding an optimal heat sink \n",
        "#@markdown Define the range of variation of the heat sink's base \n",
        "Fin_Width_min = 0.003 #@param{type: \"number\"}\n",
        "Fin_Width_max =  0.005#@param{type: \"number\"}\n",
        "Fin_Width_step = 0.001 #@param{type: \"number\"}\n",
        "#@markdown Define the range of variation of the fins' spacing \n",
        "Fin_Spacing_min = 0.01 #@param{type: \"number\"}\n",
        "Fin_Spacing_max = 0.02 #@param{type: \"number\"}\n",
        "Fin_Spacing_step = 0.001 #@param{type: \"number\"}\n",
        "\n",
        "import numpy as np \n",
        "import matplotlib.pyplot as plt\n",
        "import seaborn as sns \n",
        "\n",
        "configDef = \"Fin_Width%3D{}%2Bmeter%3BFin_Spacing%3D{}%2Bmeter\"\n",
        "\n",
        "def optimal_heat_sink(FW_min, FW_max, FW_step, FS_min, FS_max, FS_step): \n",
        "    # Row: Base Dimension; Column: Fin Spacing \n",
        "    heat_transfer = [] \n",
        "    FWs = np.arange(FW_min, FW_max + FW_step, FW_step)\n",
        "    FSs = np.arange(FS_min, FS_max + FS_step, FS_step)\n",
        "\n",
        "    for fw in FWs: \n",
        "        heat_row = [] \n",
        "        for fs in FSs: \n",
        "            config = configDef.format(str(fw), str(fs))\n",
        "            method = \"GET\"\n",
        "            params = {'partId': \"JHD\", \"configuration\": config}\n",
        "            payload = {}\n",
        "            headers = {'Accept': 'application/vnd.onshape.v2+json; charset=UTF-8;qs=0.1', \n",
        "                    'Content-Type': 'application/json'}\n",
        "            response = client.api_client.request(method, url=base + fixed_url + '/massproperties', query_params=params, headers=headers, body=payload)\n",
        "            parsed = json.loads(response.data)\n",
        "\n",
        "            # Calculate heat transfer\n",
        "            surface_area = np.mean(parsed[\"bodies\"][\"-all-\"][\"periphery\"]) \n",
        "            area_unfin = float(getVariableValue(url, config, \"Area_Unfin\").split(\"*\")[0])\n",
        "            area_fin = surface_area - area_unfin - 0.0104\n",
        "            heat_row.append(500 * (area_unfin + efficiency * area_fin))\n",
        "        heat_transfer.append(heat_row)\n",
        "        \n",
        "    # Plotting heatmap \n",
        "    sns.heatmap(heat_transfer, \n",
        "                xticklabels=np.round(FSs, 3), \n",
        "                yticklabels=np.round(FWs, 3))\n",
        "    plt.xlabel(\"Fin Spacing (m)\")\n",
        "    plt.ylabel(\"Fin Width (m)\")\n",
        "    plt.title(\"Amount of Heat Transfer (W)\")\n",
        "    plt.show()\n",
        "\n",
        "if 0.1 > Fin_Width_max > Fin_Width_min > 0.001 and Fin_Width_max < Fin_Spacing_min < Fin_Spacing_max < 0.1: \n",
        "    optimal_heat_sink(Fin_Width_min, Fin_Width_max, Fin_Width_step, \n",
        "                      Fin_Spacing_min, Fin_Spacing_max, Fin_Spacing_step)\n",
        "else: \n",
        "    print(\"ERROR: Please check the constraints on defined dimensions!\")"
      ],
      "metadata": {
        "colab": {
          "base_uri": "https://localhost:8080/",
          "height": 314
        },
        "cellView": "form",
        "id": "Mf6sxlwHPDqP",
        "outputId": "bca8b188-7c95-4232-b220-9973c687f6a1"
      },
      "execution_count": 24,
      "outputs": [
        {
          "output_type": "display_data",
          "data": {
            "text/plain": [
              "<Figure size 432x288 with 2 Axes>"
            ],
            "image/png": "[encoded data removed]"
          },
          "metadata": {
            "needs_background": "light"
          }
        }
      ]
    },
    {
      "cell_type": "markdown",
      "source": [
        "As you may be able to tell from the plots above: \n",
        "- Increase the width of the fins ⇒ an increased amount of surface area for heat dissipation as we get wider fins ⇒ increasing amount of heat transfer from the heat sink. \n",
        "-  Increase the spacing of the fins ⇒ we can fit less fins on the heat sink due to increased spacing ⇒ a decreased amount of surface area for heat dissipation ⇒ decreasing amount of heat transfer from the heat sink. \n",
        "\n",
        "Therefore, to design an optimal heat sink for a heat dissipating surface, we should aim to fit as many fins as possible on the heat sink. Meanwhile, increasing the width of the fins also enlarge the heat dissipating area of the entire heat sink. "
      ],
      "metadata": {
        "id": "GmBPUg4EsTyW"
      }
    },
    {
      "cell_type": "markdown",
      "source": [
        "#Limitations \n",
        "There are also limitations to certain assumptions and constraints used in this demo: \n",
        "1. The amount of heat conduction from the hot surface to the finned surface of the base plate is assumed to be negligible in this demo due to its relatively small thickness. \n",
        "2. When fins are placed too closed together, heat suffocation may occur, decreasing the $h$ value of the environment, hence less amount of heat transfer from the heat sink. "
      ],
      "metadata": {
        "id": "bx4bDpi19R6I"
      }
    },
    {
      "cell_type": "markdown",
      "source": [
        "#Challenge Questions \n",
        "1. Change the shape of the fins in the Onshape model, so that we can further demonstrate the advantages of using Onshape to automatically calculate the surface area instead of hand calculations. \n",
        "    - For the fins' efficiency, simply assume the fin to be a rectangular prism as they are. \n",
        "2. Add a third variable to the design of the heat sink (e.g., fin's height, fin's thickness, etc.), and study how this additional variable affects the amount of heat transfer from the heat sink. \n",
        "    - Note that you may also need to change the `calc_efficiency()` function for fin efficiency as you change the geometry of the fins. "
      ],
      "metadata": {
        "id": "ERrdEXHpjIiL"
      }
    }
  ]
}